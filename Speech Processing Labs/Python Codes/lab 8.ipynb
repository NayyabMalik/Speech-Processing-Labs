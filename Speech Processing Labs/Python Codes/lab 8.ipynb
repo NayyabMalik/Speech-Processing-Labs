{
  "nbformat": 4,
  "nbformat_minor": 0,
  "metadata": {
    "colab": {
      "provenance": []
    },
    "kernelspec": {
      "name": "python3",
      "display_name": "Python 3"
    },
    "language_info": {
      "name": "python"
    }
  },
  "cells": [
    {
      "cell_type": "code",
      "execution_count": 1,
      "metadata": {
        "id": "eVI8rP41QPJj"
      },
      "outputs": [],
      "source": [
        "import librosa\n",
        "import numpy as np\n",
        "from sklearn.model_selection import train_test_split\n",
        "from sklearn.metrics import accuracy_score, precision_score, recall_score, f1_score\n",
        "from tensorflow.keras.models import Sequential\n",
        "from tensorflow.keras.layers import Dense\n",
        "from tensorflow.keras.utils import to_categorical"
      ]
    },
    {
      "cell_type": "code",
      "source": [
        "y1, sr1 = librosa.load('/content/segment_1.wav', sr=None)\n",
        "y2, sr2 = librosa.load('/content/segment_2.wav', sr=None)"
      ],
      "metadata": {
        "id": "jiaXt7vSRRkW"
      },
      "execution_count": 3,
      "outputs": []
    },
    {
      "cell_type": "code",
      "source": [
        "# Step 2: Extract MFCC Features\n",
        "mfcc1 = librosa.feature.mfcc(y=y1, sr=sr1, n_mfcc=13).T\n",
        "mfcc2 = librosa.feature.mfcc(y=y2, sr=sr2, n_mfcc=13).T"
      ],
      "metadata": {
        "id": "JyKZrCw2RaQh"
      },
      "execution_count": 4,
      "outputs": []
    },
    {
      "cell_type": "code",
      "source": [
        "X = np.vstack((mfcc1, mfcc2))\n",
        "y = np.array([0]*len(mfcc1) + [1]*len(mfcc2))"
      ],
      "metadata": {
        "id": "yTqvw3aMRkdB"
      },
      "execution_count": 5,
      "outputs": []
    },
    {
      "cell_type": "code",
      "source": [
        "Y = to_categorical(y)"
      ],
      "metadata": {
        "id": "4tkLoCbqRnDi"
      },
      "execution_count": 6,
      "outputs": []
    },
    {
      "cell_type": "code",
      "source": [
        "X_train, X_test, y_train, y_test, Y_train, Y_test = train_test_split(X, y, Y, test_size=0.2, random_state=42)\n"
      ],
      "metadata": {
        "id": "p1e_K8cyRuBM"
      },
      "execution_count": 7,
      "outputs": []
    },
    {
      "cell_type": "code",
      "source": [
        "pattern_model = Sequential([\n",
        "    Dense(50, activation='relu', input_shape=(13,)),\n",
        "    Dense(50, activation='relu'),\n",
        "    Dense(50, activation='relu'),\n",
        "    Dense(50, activation='relu'),\n",
        "    Dense(50, activation='relu'),\n",
        "    Dense(50, activation='relu'),\n",
        "    Dense(50, activation='relu'),\n",
        "    Dense(50, activation='relu'),\n",
        "    Dense(50, activation='relu'),\n",
        "    Dense(50, activation='relu'),\n",
        "    Dense(50, activation='relu'),\n",
        "    Dense(50, activation='relu'),\n",
        "    Dense(2, activation='softmax')\n",
        "])\n",
        "pattern_model.compile(optimizer='adam', loss='categorical_crossentropy', metrics=['accuracy'])\n",
        "pattern_model.fit(X_train, Y_train, epochs=10, verbose=0)\n",
        "\n",
        "# Step 4: Feedforward Neural Network\n",
        "feedforward_model = Sequential([\n",
        "    Dense(50, activation='relu', input_shape=(13,)),\n",
        "    Dense(50, activation='relu'),\n",
        "    Dense(50, activation='relu'),\n",
        "    Dense(50, activation='relu'),\n",
        "    Dense(50, activation='relu'),\n",
        "    Dense(50, activation='relu'),\n",
        "    Dense(50, activation='relu'),\n",
        "    Dense(50, activation='relu'),\n",
        "    Dense(50, activation='relu'),\n",
        "    Dense(50, activation='relu'),\n",
        "    Dense(50, activation='relu'),\n",
        "    Dense(2, activation='softmax')\n",
        "])\n",
        "feedforward_model.compile(optimizer='adam', loss='categorical_crossentropy', metrics=['accuracy'])\n",
        "feedforward_model.fit(X_train, Y_train, epochs=50, verbose=0)\n",
        "\n"
      ],
      "metadata": {
        "colab": {
          "base_uri": "https://localhost:8080/"
        },
        "id": "48kjOjOKRv15",
        "outputId": "3e016a18-0545-4a2b-87e8-4252f842a3ee"
      },
      "execution_count": 17,
      "outputs": [
        {
          "output_type": "stream",
          "name": "stderr",
          "text": [
            "/usr/local/lib/python3.11/dist-packages/keras/src/layers/core/dense.py:87: UserWarning: Do not pass an `input_shape`/`input_dim` argument to a layer. When using Sequential models, prefer using an `Input(shape)` object as the first layer in the model instead.\n",
            "  super().__init__(activity_regularizer=activity_regularizer, **kwargs)\n"
          ]
        },
        {
          "output_type": "execute_result",
          "data": {
            "text/plain": [
              "<keras.src.callbacks.history.History at 0x7af83881f2d0>"
            ]
          },
          "metadata": {},
          "execution_count": 17
        }
      ]
    },
    {
      "cell_type": "code",
      "source": [
        "# Step 5: Test & Evaluate\n",
        "def evaluate_model(model, X_test, y_test, name=\"Model\"):\n",
        "    y_pred_prob = model.predict(X_test)\n",
        "    y_pred = np.argmax(y_pred_prob, axis=1)\n",
        "\n",
        "    acc = accuracy_score(y_test, y_pred)\n",
        "    prec = precision_score(y_test, y_pred)\n",
        "    rec = recall_score(y_test, y_pred)\n",
        "    f1 = f1_score(y_test, y_pred)\n",
        "\n",
        "    print(f\"\\n{name} Performance:\")\n",
        "    print(f\"Accuracy:  {acc:.4f}\")\n",
        "    print(f\"Precision: {prec:.4f}\")\n",
        "    print(f\"Recall:    {rec:.4f}\")\n",
        "    print(f\"F1 Score:  {f1:.4f}\")\n",
        "\n",
        "evaluate_model(pattern_model, X_test, y_test, \"Pattern Recognition Network\")\n",
        "evaluate_model(feedforward_model, X_test, y_test, \"Feedforward Neural Network\")"
      ],
      "metadata": {
        "colab": {
          "base_uri": "https://localhost:8080/"
        },
        "id": "1mHjTxezR1Qs",
        "outputId": "2a88d2b0-f97d-4cb1-c990-727932e7d55e"
      },
      "execution_count": 18,
      "outputs": [
        {
          "output_type": "stream",
          "name": "stdout",
          "text": [
            "\u001b[1m24/24\u001b[0m \u001b[32m━━━━━━━━━━━━━━━━━━━━\u001b[0m\u001b[37m\u001b[0m \u001b[1m0s\u001b[0m 8ms/step\n",
            "\n",
            "Pattern Recognition Network Performance:\n",
            "Accuracy:  0.7164\n",
            "Precision: 0.6652\n",
            "Recall:    0.8255\n",
            "F1 Score:  0.7367\n",
            "\u001b[1m24/24\u001b[0m \u001b[32m━━━━━━━━━━━━━━━━━━━━\u001b[0m\u001b[37m\u001b[0m \u001b[1m0s\u001b[0m 7ms/step\n",
            "\n",
            "Feedforward Neural Network Performance:\n",
            "Accuracy:  0.8429\n",
            "Precision: 0.8481\n",
            "Recall:    0.8199\n",
            "F1 Score:  0.8338\n"
          ]
        }
      ]
    },
    {
      "cell_type": "markdown",
      "source": [
        "mini project"
      ],
      "metadata": {
        "id": "IIpED_1ASoJA"
      }
    },
    {
      "cell_type": "code",
      "source": [
        "pattern_model = Sequential([\n",
        "    Dense(50, activation='relu', input_shape=(13,)),\n",
        "    Dense(50, activation='relu'),\n",
        "    Dense(50, activation='relu'),\n",
        "    Dense(50, activation='relu'),\n",
        "    Dense(50, activation='relu'),\n",
        "    Dense(100, activation='relu'),\n",
        "    Dense(100, activation='relu'),\n",
        "    Dense(100, activation='relu'),\n",
        "    Dense(100, activation='relu'),\n",
        "    Dense(2, activation='softmax')\n",
        "])\n",
        "pattern_model.compile(optimizer='adam', loss='categorical_crossentropy', metrics=['accuracy'])\n",
        "pattern_model.fit(X_train, Y_train, epochs=100, verbose=0)\n",
        "\n",
        "# Step 4: Feedforward Neural Network\n",
        "feedforward_model = Sequential([\n",
        "    Dense(100, activation='relu', input_shape=(13,)),\n",
        "    Dense(100, activation='relu'),\n",
        "    Dense(100, activation='relu'),\n",
        "    Dense(100, activation='relu'),\n",
        "    Dense(100, activation='relu'),\n",
        "    Dense(100, activation='relu'),\n",
        "    Dense(100, activation='relu'),\n",
        "    Dense(2, activation='softmax')\n",
        "])\n",
        "feedforward_model.compile(optimizer='adam', loss='categorical_crossentropy', metrics=['accuracy'])\n",
        "feedforward_model.fit(X_train, Y_train, epochs=100, verbose=0)\n",
        "\n"
      ],
      "metadata": {
        "colab": {
          "base_uri": "https://localhost:8080/"
        },
        "id": "WDFfLPXAR-3F",
        "outputId": "bff3a943-a45a-4a3c-9923-23167eeb6b65"
      },
      "execution_count": 21,
      "outputs": [
        {
          "output_type": "stream",
          "name": "stderr",
          "text": [
            "/usr/local/lib/python3.11/dist-packages/keras/src/layers/core/dense.py:87: UserWarning: Do not pass an `input_shape`/`input_dim` argument to a layer. When using Sequential models, prefer using an `Input(shape)` object as the first layer in the model instead.\n",
            "  super().__init__(activity_regularizer=activity_regularizer, **kwargs)\n"
          ]
        },
        {
          "output_type": "execute_result",
          "data": {
            "text/plain": [
              "<keras.src.callbacks.history.History at 0x7af831e3f2d0>"
            ]
          },
          "metadata": {},
          "execution_count": 21
        }
      ]
    },
    {
      "cell_type": "code",
      "source": [
        "# Step 5: Test & Evaluate\n",
        "def evaluate_model(model, X_test, y_test, name=\"Model\"):\n",
        "    y_pred_prob = model.predict(X_test)\n",
        "    y_pred = np.argmax(y_pred_prob, axis=1)\n",
        "\n",
        "    acc = accuracy_score(y_test, y_pred)\n",
        "    prec = precision_score(y_test, y_pred)\n",
        "    rec = recall_score(y_test, y_pred)\n",
        "    f1 = f1_score(y_test, y_pred)\n",
        "\n",
        "    print(f\"\\n{name} Performance:\")\n",
        "    print(f\"Accuracy:  {acc:.4f}\")\n",
        "    print(f\"Precision: {prec:.4f}\")\n",
        "    print(f\"Recall:    {rec:.4f}\")\n",
        "    print(f\"F1 Score:  {f1:.4f}\")\n",
        "\n",
        "evaluate_model(pattern_model, X_test, y_test, \"Pattern Recognition Network\")\n",
        "evaluate_model(feedforward_model, X_test, y_test, \"Feedforward Neural Network\")"
      ],
      "metadata": {
        "colab": {
          "base_uri": "https://localhost:8080/"
        },
        "id": "m_bfHFH7Sv18",
        "outputId": "4299e423-a68a-400b-b6f3-0ad33a496704"
      },
      "execution_count": 23,
      "outputs": [
        {
          "output_type": "stream",
          "name": "stdout",
          "text": [
            "\u001b[1m24/24\u001b[0m \u001b[32m━━━━━━━━━━━━━━━━━━━━\u001b[0m\u001b[37m\u001b[0m \u001b[1m0s\u001b[0m 3ms/step \n",
            "\n",
            "Pattern Recognition Network Performance:\n",
            "Accuracy:  0.8642\n",
            "Precision: 0.8732\n",
            "Recall:    0.8393\n",
            "F1 Score:  0.8559\n",
            "\u001b[1m24/24\u001b[0m \u001b[32m━━━━━━━━━━━━━━━━━━━━\u001b[0m\u001b[37m\u001b[0m \u001b[1m0s\u001b[0m 2ms/step \n",
            "\n",
            "Feedforward Neural Network Performance:\n",
            "Accuracy:  0.8722\n",
            "Precision: 0.8354\n",
            "Recall:    0.9141\n",
            "F1 Score:  0.8730\n"
          ]
        }
      ]
    },
    {
      "cell_type": "code",
      "source": [
        "# Step 3: Pattern Recognition Network (Deeper version)\n",
        "pattern_model = Sequential([\n",
        "    Dense(50, activation='relu', input_shape=(13,)),\n",
        "    Dense(50, activation='relu'),\n",
        "    Dense(50, activation='relu'),\n",
        "    Dense(50, activation='relu'),\n",
        "    Dense(50, activation='relu'),\n",
        "    Dense(100, activation='relu'),\n",
        "    Dense(100, activation='relu'),\n",
        "    Dense(100, activation='relu'),\n",
        "    Dense(100, activation='relu'),\n",
        "    Dense(2, activation='softmax')\n",
        "])\n",
        "pattern_model.compile(optimizer='adam', loss='categorical_crossentropy', metrics=['accuracy'])\n",
        "pattern_model.fit(X_train, Y_train, epochs=100, verbose=0)\n",
        "\n",
        "# Step 4: Feedforward Neural Network (Alternative deep version)\n",
        "feedforward_model = Sequential([\n",
        "    Dense(100, activation='relu', input_shape=(13,)),\n",
        "    Dense(100, activation='relu'),\n",
        "    Dense(100, activation='relu'),\n",
        "    Dense(100, activation='relu'),\n",
        "    Dense(100, activation='relu'),\n",
        "    Dense(100, activation='relu'),\n",
        "    Dense(100, activation='relu'),\n",
        "    Dense(2, activation='softmax')\n",
        "])\n",
        "feedforward_model.compile(optimizer='adam', loss='categorical_crossentropy', metrics=['accuracy'])\n",
        "feedforward_model.fit(X_train, Y_train, epochs=100, verbose=0)\n",
        "\n",
        "# Step 5: Evaluation function\n",
        "def evaluate_model(model, X_test, y_test, name=\"Model\"):\n",
        "    y_pred_prob = model.predict(X_test)\n",
        "    y_pred = np.argmax(y_pred_prob, axis=1)\n",
        "\n",
        "    acc = accuracy_score(y_test, y_pred)\n",
        "    err = 1 - acc\n",
        "    prec = precision_score(y_test, y_pred)\n",
        "    rec = recall_score(y_test, y_pred)\n",
        "    f1 = f1_score(y_test, y_pred)\n",
        "\n",
        "    print(f\"\\n{name} Evaluation Metrics:\")\n",
        "    print(f\"Accuracy     : {acc:.4f}\")\n",
        "    print(f\"Error Rate   : {err:.4f}\")\n",
        "    print(f\"Precision    : {prec:.4f}\")\n",
        "    print(f\"Recall       : {rec:.4f}\")\n",
        "    print(f\"F1 Score     : {f1:.4f}\")\n",
        "\n",
        "# Step 6: Show results\n",
        "evaluate_model(pattern_model, X_test, y_test, \"Pattern Recognition Network\")\n",
        "evaluate_model(feedforward_model, X_test, y_test, \"Feedforward Neural Network\")"
      ],
      "metadata": {
        "colab": {
          "base_uri": "https://localhost:8080/"
        },
        "id": "3BuoBK07Z1Lk",
        "outputId": "97cf4a67-54fd-4792-9637-d8d6dad1d18c"
      },
      "execution_count": 24,
      "outputs": [
        {
          "output_type": "stream",
          "name": "stderr",
          "text": [
            "/usr/local/lib/python3.11/dist-packages/keras/src/layers/core/dense.py:87: UserWarning: Do not pass an `input_shape`/`input_dim` argument to a layer. When using Sequential models, prefer using an `Input(shape)` object as the first layer in the model instead.\n",
            "  super().__init__(activity_regularizer=activity_regularizer, **kwargs)\n"
          ]
        },
        {
          "output_type": "stream",
          "name": "stdout",
          "text": [
            "\u001b[1m24/24\u001b[0m \u001b[32m━━━━━━━━━━━━━━━━━━━━\u001b[0m\u001b[37m\u001b[0m \u001b[1m0s\u001b[0m 7ms/step\n",
            "\n",
            "Pattern Recognition Network Evaluation Metrics:\n",
            "Accuracy     : 0.8615\n",
            "Error Rate   : 0.1385\n",
            "Precision    : 0.8746\n",
            "Recall       : 0.8310\n",
            "F1 Score     : 0.8523\n",
            "\u001b[1m24/24\u001b[0m \u001b[32m━━━━━━━━━━━━━━━━━━━━\u001b[0m\u001b[37m\u001b[0m \u001b[1m0s\u001b[0m 8ms/step\n",
            "\n",
            "Feedforward Neural Network Evaluation Metrics:\n",
            "Accuracy     : 0.9055\n",
            "Error Rate   : 0.0945\n",
            "Precision    : 0.9050\n",
            "Recall       : 0.8975\n",
            "F1 Score     : 0.9013\n"
          ]
        }
      ]
    },
    {
      "cell_type": "code",
      "source": [
        "# Step 3: Pattern Recognition Network (Deeper version)\n",
        "pattern_model = Sequential([\n",
        "    Dense(50, activation='relu', input_shape=(13,)),\n",
        "    Dense(50, activation='relu'),\n",
        "    Dense(50, activation='relu'),\n",
        "    Dense(50, activation='relu'),\n",
        "    Dense(50, activation='relu'),\n",
        "    Dense(100, activation='relu'),\n",
        "    Dense(100, activation='relu'),\n",
        "    Dense(100, activation='relu'),\n",
        "    Dense(100, activation='relu'),\n",
        "    Dense(2, activation='softmax')\n",
        "])\n",
        "pattern_model.compile(optimizer='adam', loss='categorical_crossentropy', metrics=['accuracy'])\n",
        "pattern_model.fit(X_train, Y_train, epochs=200, verbose=0)\n",
        "\n",
        "# Step 4: Feedforward Neural Network (Alternative deep version)\n",
        "feedforward_model = Sequential([\n",
        "    Dense(100, activation='relu', input_shape=(13,)),\n",
        "    Dense(100, activation='relu'),\n",
        "    Dense(100, activation='relu'),\n",
        "    Dense(100, activation='relu'),\n",
        "    Dense(100, activation='relu'),\n",
        "    Dense(100, activation='relu'),\n",
        "    Dense(100, activation='relu'),\n",
        "    Dense(2, activation='softmax')\n",
        "])\n",
        "feedforward_model.compile(optimizer='adam', loss='categorical_crossentropy', metrics=['accuracy'])\n",
        "feedforward_model.fit(X_train, Y_train, epochs=200, verbose=0)\n",
        "\n",
        "# Step 5: Evaluation function\n",
        "def evaluate_model(model, X_test, y_test, name=\"Model\"):\n",
        "    y_pred_prob = model.predict(X_test)\n",
        "    y_pred = np.argmax(y_pred_prob, axis=1)\n",
        "\n",
        "    acc = accuracy_score(y_test, y_pred)\n",
        "    err = 1 - acc\n",
        "    prec = precision_score(y_test, y_pred)\n",
        "    rec = recall_score(y_test, y_pred)\n",
        "    f1 = f1_score(y_test, y_pred)\n",
        "\n",
        "    print(f\"\\n{name} Evaluation Metrics:\")\n",
        "    print(f\"Accuracy     : {acc:.4f}\")\n",
        "    print(f\"Error Rate   : {err:.4f}\")\n",
        "    print(f\"Precision    : {prec:.4f}\")\n",
        "    print(f\"Recall       : {rec:.4f}\")\n",
        "    print(f\"F1 Score     : {f1:.4f}\")\n",
        "\n",
        "# Step 6: Show results\n",
        "evaluate_model(pattern_model, X_test, y_test, \"Pattern Recognition Network\")\n",
        "evaluate_model(feedforward_model, X_test, y_test, \"Feedforward Neural Network\")"
      ],
      "metadata": {
        "colab": {
          "base_uri": "https://localhost:8080/"
        },
        "id": "2jx4944DbnCd",
        "outputId": "b749946c-f511-4712-a095-b4aeba115ad1"
      },
      "execution_count": 25,
      "outputs": [
        {
          "output_type": "stream",
          "name": "stderr",
          "text": [
            "/usr/local/lib/python3.11/dist-packages/keras/src/layers/core/dense.py:87: UserWarning: Do not pass an `input_shape`/`input_dim` argument to a layer. When using Sequential models, prefer using an `Input(shape)` object as the first layer in the model instead.\n",
            "  super().__init__(activity_regularizer=activity_regularizer, **kwargs)\n"
          ]
        },
        {
          "output_type": "stream",
          "name": "stdout",
          "text": [
            "\u001b[1m24/24\u001b[0m \u001b[32m━━━━━━━━━━━━━━━━━━━━\u001b[0m\u001b[37m\u001b[0m \u001b[1m0s\u001b[0m 7ms/step\n",
            "\n",
            "Pattern Recognition Network Evaluation Metrics:\n",
            "Accuracy     : 0.8695\n",
            "Error Rate   : 0.1305\n",
            "Precision    : 0.8725\n",
            "Recall       : 0.8532\n",
            "F1 Score     : 0.8627\n",
            "\u001b[1m24/24\u001b[0m \u001b[32m━━━━━━━━━━━━━━━━━━━━\u001b[0m\u001b[37m\u001b[0m \u001b[1m0s\u001b[0m 6ms/step\n",
            "\n",
            "Feedforward Neural Network Evaluation Metrics:\n",
            "Accuracy     : 0.9041\n",
            "Error Rate   : 0.0959\n",
            "Precision    : 0.9164\n",
            "Recall       : 0.8809\n",
            "F1 Score     : 0.8983\n"
          ]
        }
      ]
    },
    {
      "cell_type": "code",
      "source": [
        "\"C:\\Users\\PMLS\\Documents\\Sound recordings\\vowel_data\\e.m4a\""
      ],
      "metadata": {
        "id": "FODTpmoLcQE0"
      },
      "execution_count": null,
      "outputs": []
    }
  ]
}